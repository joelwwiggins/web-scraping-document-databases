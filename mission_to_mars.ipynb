{
 "cells": [
  {
   "cell_type": "code",
   "execution_count": 102,
   "metadata": {},
   "outputs": [],
   "source": [
    "# !pip install bs4\n",
    "# !pip install selenium\n",
    "# !pip install html5 lib\n",
    "# !pip install splinter\n",
    "# !pip install webdriver-manager\n",
    "# !pip install lxml"
   ]
  },
  {
   "cell_type": "code",
   "execution_count": 45,
   "metadata": {},
   "outputs": [],
   "source": [
    "from bs4 import BeautifulSoup as bs\n",
    "from splinter import Browser\n",
    "from webdriver_manager.chrome import ChromeDriverManager\n",
    "import time\n",
    "import requests\n",
    "import os\n",
    "import pandas as pd"
   ]
  },
  {
   "cell_type": "code",
   "execution_count": null,
   "metadata": {},
   "outputs": [],
   "source": [
    "\n"
   ]
  },
  {
   "cell_type": "code",
   "execution_count": 46,
   "metadata": {},
   "outputs": [],
   "source": [
    "url='https://redplanetscience.com/'\n",
    "\n",
    "response=requests.get(url)"
   ]
  },
  {
   "cell_type": "code",
   "execution_count": 47,
   "metadata": {},
   "outputs": [],
   "source": [
    "soup = bs(response.text, \"html.parser\")"
   ]
  },
  {
   "cell_type": "code",
   "execution_count": 48,
   "metadata": {},
   "outputs": [
    {
     "data": {
      "text/plain": [
       "<!DOCTYPE html>\n",
       "\n",
       "<html>\n",
       "<head>\n",
       "<meta charset=\"utf-8\"/>\n",
       "<meta content=\"width=device-width, initial-scale=1\" name=\"viewport\"/>\n",
       "<link crossorigin=\"anonymous\" href=\"https://cdn.jsdelivr.net/npm/bootstrap@5.0.0-beta1/dist/css/bootstrap.min.css\" integrity=\"sha384-giJF6kkoqNQ00vy+HMDP7azOuL0xtbfIcaT9wjKHr8RbDVddVHyTfAAsrekwKmP1\" rel=\"stylesheet\"/>\n",
       "<link href=\"css/font.css\" rel=\"stylesheet\" type=\"text/css\"/>\n",
       "<link href=\"css/app.css\" rel=\"stylesheet\" type=\"text/css\"/>\n",
       "<link crossorigin=\"anonymous\" href=\"https://pro.fontawesome.com/releases/v5.10.0/css/all.css\" integrity=\"sha384-AYmEC3Yw5cVb3ZcuHtOA93w35dYTsvhLPVnYs9eStHfGJvOvKxVfELGroGkvsg+p\" rel=\"stylesheet\">\n",
       "<title>News - Mars Exploration Program</title>\n",
       "</link></head>\n",
       "<body>\n",
       "<div class=\"col-md-12\">\n",
       "<div class=\"row\">\n",
       "<nav class=\"navbar navbar-expand-lg navbar-light fixed-top\">\n",
       "<div class=\"container-fluid\">\n",
       "<a class=\"navbar-brand\" href=\"#\">\n",
       "<img src=\"image/nasa.png\" width=\"80\"/><span class=\"logo\">MARS Planet Science</span>\n",
       "<span class=\"logo1\">Exploration Program</span>\n",
       "</a>\n",
       "<button aria-controls=\"navbarNav\" aria-expanded=\"false\" aria-label=\"Toggle navigation\" class=\"navbar-toggler\" data-bs-target=\"#navbarNav\" data-bs-toggle=\"collapse\" type=\"button\">\n",
       "<span class=\"navbar-toggler-icon\"></span>\n",
       "</button>\n",
       "<div class=\"collapse navbar-collapse justify-content-end\" id=\"navbarNav\">\n",
       "<ul class=\"navbar-nav\">\n",
       "<li class=\"nav-item\">\n",
       "<a aria-current=\"page\" class=\"nav-link active\" href=\"#\">The Red Planet</a>\n",
       "</li>\n",
       "<li class=\"nav-item\">\n",
       "<a class=\"nav-link\" href=\"#\">The Program</a>\n",
       "</li>\n",
       "<li class=\"nav-item\">\n",
       "<a class=\"nav-link\" href=\"#\">News &amp; Events</a>\n",
       "</li>\n",
       "<li class=\"nav-item\">\n",
       "<a class=\"nav-link\" href=\"#\">Multimedia</a>\n",
       "</li>\n",
       "<li class=\"nav-item\">\n",
       "<a class=\"nav-link\" href=\"#\">Missions</a>\n",
       "</li>\n",
       "<li class=\"nav-item\">\n",
       "<a class=\"nav-link\" href=\"#\">More</a>\n",
       "</li>\n",
       "<li class=\"nav-item nav_search\">\n",
       "<a class=\"nav-link \" href=\"#\"></a>\n",
       "</li>\n",
       "</ul>\n",
       "</div>\n",
       "</div>\n",
       "</nav>\n",
       "<section class=\"search\">\n",
       "<div class=\"container\">\n",
       "<h1>News</h1>\n",
       "<div class=\"col-md-12 filter\">\n",
       "<div class=\"row\">\n",
       "<div class=\"col-md-3 search_binder\">\n",
       "<input class=\"search_field\" name=\"search\" type=\"text\"/>\n",
       "<input class=\"search_submit\" name=\"search\" type=\"text\"/>\n",
       "</div>\n",
       "<div class=\"col-md-3\">\n",
       "<select aria-label=\"Default select example\" class=\"form-select \" id=\"year\">\n",
       "<option selected=\"\">Latest</option>\n",
       "</select>\n",
       "</div>\n",
       "<div class=\"col-md-3\">\n",
       "<select aria-label=\"Default select example\" class=\"form-select \" id=\"cat\">\n",
       "<option selected=\"\">All Categories</option>\n",
       "</select>\n",
       "</div>\n",
       "<div class=\"col-md-3\">\n",
       "</div>\n",
       "</div>\n",
       "</div>\n",
       "</div>\n",
       "</section>\n",
       "<section class=\"image_and_description_container\">\n",
       "<div class=\"container \" id=\"news\">\n",
       "</div>\n",
       "<hr class=\"container\" style=\"margin: 25px auto;width: 83%;\"/>\n",
       "<button class=\"btn disable\" id=\"more\" onclick=\"populateContent()\">More</button>\n",
       "</section>\n",
       "<section class=\"last_news\">\n",
       "<div class=\"container\">\n",
       "<div class=\"row\">\n",
       "<div class=\"col-12\">\n",
       "<h2>You Might Also Like</h2>\n",
       "</div>\n",
       "<!--  <a class=\" prev\" href=\"#carouselExampleIndicators2\" role=\"button\" data-slide=\"prev\">\n",
       "                  <i class=\"fas fa-angle-left\"></i>\n",
       "                  </a>\n",
       "                  <a class=\" next\" href=\"#carouselExampleIndicators2\" role=\"button\" data-slide=\"next\">\n",
       "                  <i class=\"fas fa-angle-right\"></i>\n",
       "                  </a> -->\n",
       "<div class=\"col-12\">\n",
       "<div class=\"carousel slide\" data-ride=\"carousel\" id=\"carouselExampleIndicators2\">\n",
       "<div class=\"carousel-inner\">\n",
       "<div class=\"carousel-item active\">\n",
       "<div class=\"row\">\n",
       "<div class=\"col-md-4 mb-3\">\n",
       "<div class=\"card\">\n",
       "<img alt=\"100%x280\" class=\"img-fluid\" src=\"https://mars.nasa.gov/system/news_items/main_images/8716_PIA23499-16.jpg\"/>\n",
       "<div class=\"card-body\">\n",
       "<p class=\"card-text\">NASA to Broadcast Mars 2020 Perseverance Launch, Prelaunch Activities</p>\n",
       "</div>\n",
       "</div>\n",
       "</div>\n",
       "<div class=\"col-md-4 mb-3\">\n",
       "<div class=\"card\">\n",
       "<img alt=\"100%x280\" class=\"img-fluid\" src=\"https://mars.nasa.gov/system/news_items/main_images/8716_PIA23499-16.jpg\"/>\n",
       "<div class=\"card-body\">\n",
       "<p class=\"card-text\">The Launch Is Approaching for NASA's Next Mars Rover, Perseverance</p>\n",
       "</div>\n",
       "</div>\n",
       "</div>\n",
       "<div class=\"col-md-4 mb-3\">\n",
       "<div class=\"card\">\n",
       "<img alt=\"100%x280\" class=\"img-fluid\" src=\"https://mars.nasa.gov/system/news_items/main_images/8692_PIA23920-web.jpg\"/>\n",
       "<div class=\"card-body\">\n",
       "<p class=\"card-text\">NASA to Hold Mars 2020 Perseverance Rover Launch Briefing</p>\n",
       "</div>\n",
       "</div>\n",
       "</div>\n",
       "</div>\n",
       "</div>\n",
       "<div class=\"carousel-item\">\n",
       "<div class=\"row\">\n",
       "<div class=\"col-md-4 mb-3\">\n",
       "<div class=\"card\">\n",
       "<img alt=\"100%x280\" class=\"img-fluid\" src=\"https://images.unsplash.com/photo-1532771098148-525cefe10c23?ixlib=rb-0.3.5&amp;q=80&amp;fm=jpg&amp;crop=entropy&amp;cs=tinysrgb&amp;w=1080&amp;fit=max&amp;ixid=eyJhcHBfaWQiOjMyMDc0fQ&amp;s=3f317c1f7a16116dec454fbc267dd8e4\"/>\n",
       "<div class=\"card-body\">\n",
       "<p class=\"card-text\">With supporting text below as a natural lead-in to additional content.</p>\n",
       "</div>\n",
       "</div>\n",
       "</div>\n",
       "<div class=\"col-md-4 mb-3\">\n",
       "<div class=\"card\">\n",
       "<img alt=\"100%x280\" class=\"img-fluid\" src=\"https://images.unsplash.com/photo-1532715088550-62f09305f765?ixlib=rb-0.3.5&amp;q=80&amp;fm=jpg&amp;crop=entropy&amp;cs=tinysrgb&amp;w=1080&amp;fit=max&amp;ixid=eyJhcHBfaWQiOjMyMDc0fQ&amp;s=ebadb044b374504ef8e81bdec4d0e840\"/>\n",
       "<div class=\"card-body\">\n",
       "<p class=\"card-text\">With supporting text below as a natural lead-in to additional content.</p>\n",
       "</div>\n",
       "</div>\n",
       "</div>\n",
       "<div class=\"col-md-4 mb-3\">\n",
       "<div class=\"card\">\n",
       "<img alt=\"100%x280\" class=\"img-fluid\" src=\"https://images.unsplash.com/photo-1506197603052-3cc9c3a201bd?ixlib=rb-0.3.5&amp;q=80&amp;fm=jpg&amp;crop=entropy&amp;cs=tinysrgb&amp;w=1080&amp;fit=max&amp;ixid=eyJhcHBfaWQiOjMyMDc0fQ&amp;s=0754ab085804ae8a3b562548e6b4aa2e\"/>\n",
       "<div class=\"card-body\">\n",
       "<p class=\"card-text\">With supporting text below as a natural lead-in to additional content.</p>\n",
       "</div>\n",
       "</div>\n",
       "</div>\n",
       "</div>\n",
       "</div>\n",
       "<div class=\"carousel-item\">\n",
       "<div class=\"row\">\n",
       "<div class=\"col-md-4 mb-3\">\n",
       "<div class=\"card\">\n",
       "<img alt=\"100%x280\" class=\"img-fluid\" src=\"https://images.unsplash.com/photo-1507525428034-b723cf961d3e?ixlib=rb-0.3.5&amp;q=80&amp;fm=jpg&amp;crop=entropy&amp;cs=tinysrgb&amp;w=1080&amp;fit=max&amp;ixid=eyJhcHBfaWQiOjMyMDc0fQ&amp;s=ee8417f0ea2a50d53a12665820b54e23\"/>\n",
       "<div class=\"card-body\">\n",
       "<p class=\"card-text\">With supporting text below as a natural lead-in to additional content.</p>\n",
       "</div>\n",
       "</div>\n",
       "</div>\n",
       "<div class=\"col-md-4 mb-3\">\n",
       "<div class=\"card\">\n",
       "<img alt=\"100%x280\" class=\"img-fluid\" src=\"https://images.unsplash.com/photo-1532777946373-b6783242f211?ixlib=rb-0.3.5&amp;q=80&amp;fm=jpg&amp;crop=entropy&amp;cs=tinysrgb&amp;w=1080&amp;fit=max&amp;ixid=eyJhcHBfaWQiOjMyMDc0fQ&amp;s=8ac55cf3a68785643998730839663129\"/>\n",
       "<div class=\"card-body\">\n",
       "<p class=\"card-text\">With supporting text below as a natural lead-in to additional content.</p>\n",
       "</div>\n",
       "</div>\n",
       "</div>\n",
       "<div class=\"col-md-4 mb-3\">\n",
       "<div class=\"card\">\n",
       "<img alt=\"100%x280\" class=\"img-fluid\" src=\"https://images.unsplash.com/photo-1532763303805-529d595877c5?ixlib=rb-0.3.5&amp;q=80&amp;fm=jpg&amp;crop=entropy&amp;cs=tinysrgb&amp;w=1080&amp;fit=max&amp;ixid=eyJhcHBfaWQiOjMyMDc0fQ&amp;s=5ee4fd5d19b40f93eadb21871757eda6\"/>\n",
       "<div class=\"card-body\">\n",
       "<p class=\"card-text\">With supporting text below as a natural lead-in to additional content.</p>\n",
       "</div>\n",
       "</div>\n",
       "</div>\n",
       "</div>\n",
       "</div>\n",
       "</div>\n",
       "</div>\n",
       "</div>\n",
       "</div>\n",
       "</div>\n",
       "</section>\n",
       "<section class=\"footer\">\n",
       "<div class=\"container\">\n",
       "<div class=\"col-md-12\">\n",
       "<div class=\"row\">\n",
       "<div class=\"col-md-3\">\n",
       "<h5>The Red Planet</h5>\n",
       "<ul>\n",
       "<li>Dashboard</li>\n",
       "<li>Science Goals</li>\n",
       "<li>The Planet</li>\n",
       "</ul>\n",
       "</div>\n",
       "<div class=\"col-md-3\">\n",
       "<h5>The Program</h5>\n",
       "<ul>\n",
       "<li>Mission Statement</li>\n",
       "<li>About the Program</li>\n",
       "<li>Organization Why Mars?</li>\n",
       "</ul>\n",
       "</div>\n",
       "<div class=\"col-md-3\">\n",
       "<h5>Multimedia</h5>\n",
       "<ul>\n",
       "<li>Images</li>\n",
       "<li>Videos</li>\n",
       "<li>More Resources</li>\n",
       "</ul>\n",
       "</div>\n",
       "<div class=\"col-md-3\">\n",
       "<h5>Missions</h5>\n",
       "<ul>\n",
       "<li>Past</li>\n",
       "<li>Present</li>\n",
       "<li>Future</li>\n",
       "</ul>\n",
       "</div>\n",
       "</div>\n",
       "</div>\n",
       "</div>\n",
       "</section>\n",
       "<script src=\"https://code.jquery.com/jquery-1.12.4.min.js\" type=\"text/javascript\"></script>\n",
       "<script src=\"https://cdn.jsdelivr.net/npm/@popperjs/core@2.5.4/dist/umd/popper.min.js\"></script>\n",
       "<script src=\"https://cdn.jsdelivr.net/npm/bootstrap@5.0.0-beta1/dist/js/bootstrap.min.js\"></script>\n",
       "<script src=\"js/app.js\"></script>\n",
       "</div></div></body>\n",
       "</html>"
      ]
     },
     "execution_count": 48,
     "metadata": {},
     "output_type": "execute_result"
    }
   ],
   "source": [
    "soup"
   ]
  },
  {
   "cell_type": "code",
   "execution_count": 49,
   "metadata": {},
   "outputs": [
    {
     "name": "stdout",
     "output_type": "stream",
     "text": [
      "[]\n"
     ]
    }
   ],
   "source": [
    "data=soup.find_all('div', class_=\"content_title\")\n",
    "print(data)"
   ]
  },
  {
   "cell_type": "code",
   "execution_count": 50,
   "metadata": {},
   "outputs": [
    {
     "ename": "AttributeError",
     "evalue": "ResultSet object has no attribute 'get_text'. You're probably treating a list of items like a single item. Did you call find_all() when you meant to call find()?",
     "output_type": "error",
     "traceback": [
      "\u001b[1;31m--------------------------------------------------------\u001b[0m",
      "\u001b[1;31mAttributeError\u001b[0m         Traceback (most recent call last)",
      "\u001b[1;32m<ipython-input-50-d87f740b5c2a>\u001b[0m in \u001b[0;36m<module>\u001b[1;34m\u001b[0m\n\u001b[0;32m      1\u001b[0m \u001b[1;33m\u001b[0m\u001b[0m\n\u001b[1;32m----> 2\u001b[1;33m \u001b[0mtitle\u001b[0m\u001b[1;33m=\u001b[0m\u001b[0msoup\u001b[0m\u001b[1;33m.\u001b[0m\u001b[0mfind_all\u001b[0m\u001b[1;33m(\u001b[0m\u001b[1;34m'div'\u001b[0m\u001b[1;33m,\u001b[0m \u001b[0mattr\u001b[0m\u001b[1;33m=\u001b[0m\u001b[1;33m{\u001b[0m\u001b[1;34m'class'\u001b[0m\u001b[1;33m:\u001b[0m\u001b[1;34m\"content_title\"\u001b[0m\u001b[1;33m}\u001b[0m\u001b[1;33m)\u001b[0m\u001b[1;33m.\u001b[0m\u001b[0mget_text\u001b[0m\u001b[1;33m(\u001b[0m\u001b[1;33m)\u001b[0m\u001b[1;33m\u001b[0m\u001b[1;33m\u001b[0m\u001b[0m\n\u001b[0m\u001b[0;32m      3\u001b[0m \u001b[0mprint\u001b[0m\u001b[1;33m(\u001b[0m\u001b[0mtitle\u001b[0m\u001b[1;33m)\u001b[0m\u001b[1;33m\u001b[0m\u001b[1;33m\u001b[0m\u001b[0m\n",
      "\u001b[1;32m~\\Anaconda3\\lib\\site-packages\\bs4\\element.py\u001b[0m in \u001b[0;36m__getattr__\u001b[1;34m(self, key)\u001b[0m\n\u001b[0;32m   1882\u001b[0m     \u001b[1;32mdef\u001b[0m \u001b[0m__getattr__\u001b[0m\u001b[1;33m(\u001b[0m\u001b[0mself\u001b[0m\u001b[1;33m,\u001b[0m \u001b[0mkey\u001b[0m\u001b[1;33m)\u001b[0m\u001b[1;33m:\u001b[0m\u001b[1;33m\u001b[0m\u001b[1;33m\u001b[0m\u001b[0m\n\u001b[0;32m   1883\u001b[0m         raise AttributeError(\n\u001b[1;32m-> 1884\u001b[1;33m             \u001b[1;34m\"ResultSet object has no attribute '%s'. You're probably treating a list of items like a single item. Did you call find_all() when you meant to call find()?\"\u001b[0m \u001b[1;33m%\u001b[0m \u001b[0mkey\u001b[0m\u001b[1;33m\u001b[0m\u001b[1;33m\u001b[0m\u001b[0m\n\u001b[0m\u001b[0;32m   1885\u001b[0m         )\n",
      "\u001b[1;31mAttributeError\u001b[0m: ResultSet object has no attribute 'get_text'. You're probably treating a list of items like a single item. Did you call find_all() when you meant to call find()?"
     ]
    }
   ],
   "source": [
    "\n",
    "title=soup.find_all('div', attr={'class':\"content_title\"}).get_text()\n",
    "print(title)"
   ]
  },
  {
   "cell_type": "code",
   "execution_count": null,
   "metadata": {},
   "outputs": [],
   "source": []
  },
  {
   "cell_type": "code",
   "execution_count": 52,
   "metadata": {},
   "outputs": [],
   "source": [
    "from splinter import Browser\n",
    "from webdriver_manager.chrome import ChromeDriverManager"
   ]
  },
  {
   "cell_type": "code",
   "execution_count": 53,
   "metadata": {},
   "outputs": [
    {
     "name": "stderr",
     "output_type": "stream",
     "text": [
      "\n",
      "\n",
      "====== WebDriver manager ======\n",
      "Current google-chrome version is 94.0.4606\n",
      "Get LATEST driver version for 94.0.4606\n",
      "Get LATEST driver version for 94.0.4606\n",
      "Trying to download new driver from https://chromedriver.storage.googleapis.com/94.0.4606.61/chromedriver_win32.zip\n",
      "Driver has been saved in cache [C:\\Users\\joelw\\.wdm\\drivers\\chromedriver\\win32\\94.0.4606.61]\n"
     ]
    }
   ],
   "source": [
    "executable_path = {\"executable_path\": ChromeDriverManager().install()}\n",
    "browser = Browser(\"chrome\", **executable_path, headless=False)"
   ]
  },
  {
   "cell_type": "code",
   "execution_count": 54,
   "metadata": {
    "scrolled": true
   },
   "outputs": [],
   "source": [
    "url='https://redplanetscience.com/'\n",
    "browser.visit(url)\n",
    "html=browser.html\n"
   ]
  },
  {
   "cell_type": "code",
   "execution_count": 55,
   "metadata": {},
   "outputs": [],
   "source": [
    "soup=bs(html1, 'html.parser')"
   ]
  },
  {
   "cell_type": "code",
   "execution_count": 56,
   "metadata": {},
   "outputs": [
    {
     "data": {
      "text/plain": [
       "[<div class=\"content_title\">NASA's Perseverance Rover Will Look at Mars Through These 'Eyes'</div>,\n",
       " <div class=\"content_title\">Robotic Toolkit Added to NASA's Mars 2020 Rover</div>,\n",
       " <div class=\"content_title\">NASA's InSight Flexes Its Arm While Its 'Mole' Hits Pause</div>,\n",
       " <div class=\"content_title\">The Launch Is Approaching for NASA's Next Mars Rover, Perseverance</div>,\n",
       " <div class=\"content_title\">NASA's Mars 2020 Rover Completes Its First Drive</div>,\n",
       " <div class=\"content_title\">The Extraordinary Sample-Gathering System of NASA's Perseverance Mars Rover</div>,\n",
       " <div class=\"content_title\">From JPL's Mailroom to Mars and Beyond</div>,\n",
       " <div class=\"content_title\">Mars Is Getting a New Robotic Meteorologist</div>,\n",
       " <div class=\"content_title\">Global Storms on Mars Launch Dust Towers Into the Sky</div>,\n",
       " <div class=\"content_title\">Heat and Dust Help Launch Martian Water Into Space, Scientists Find</div>,\n",
       " <div class=\"content_title\">NASA's Mars Helicopter Attached to Mars 2020 Rover </div>,\n",
       " <div class=\"content_title\">NASA Adds Return Sample Scientists to Mars 2020 Leadership Team</div>,\n",
       " <div class=\"content_title\">Hear Audio From NASA's Perseverance As It Travels Through Deep Space</div>,\n",
       " <div class=\"content_title\">NASA's Mars Perseverance Rover Gets Its Sample Handling System</div>,\n",
       " <div class=\"content_title\">Alabama High School Student Names NASA's Mars Helicopter</div>]"
      ]
     },
     "execution_count": 56,
     "metadata": {},
     "output_type": "execute_result"
    }
   ],
   "source": [
    "soup.find_all(\"div\", class_=\"content_title\")"
   ]
  },
  {
   "cell_type": "code",
   "execution_count": null,
   "metadata": {},
   "outputs": [],
   "source": []
  },
  {
   "cell_type": "code",
   "execution_count": 57,
   "metadata": {},
   "outputs": [
    {
     "name": "stdout",
     "output_type": "stream",
     "text": [
      "NASA's Perseverance Rover Will Look at Mars Through These 'Eyes'\n",
      "A pair of zoomable cameras will help scientists and rover drivers with high-resolution color images.\n"
     ]
    }
   ],
   "source": [
    "\n",
    "news_title1=soup.find_all(\"div\", class_=\"content_title\")[0].text\n",
    "news_paragraph=soup.find_all(\"div\", class_=\"article_teaser_body\")[0].text\n",
    "print(news_title1)\n",
    "print(news_paragraph)"
   ]
  },
  {
   "cell_type": "code",
   "execution_count": 59,
   "metadata": {},
   "outputs": [],
   "source": [
    "### JPL Mars Space Images - Featured Image\n",
    "space_url='https://spaceimages-mars.com'\n",
    "browser.visit(space_url)\n",
    "html2=browser.html"
   ]
  },
  {
   "cell_type": "code",
   "execution_count": 65,
   "metadata": {},
   "outputs": [
    {
     "data": {
      "text/plain": [
       "'https://spaceimages-mars.com/image/featured/mars2.jpg'"
      ]
     },
     "execution_count": 65,
     "metadata": {},
     "output_type": "execute_result"
    }
   ],
   "source": [
    "soup2=bs(html2,'html.parser')\n",
    "featured_image_url = space_url+\"/\"+soup2.find_all(\"a\", class_=\"fancybox-thumbs\")[0][\"href\"]\n",
    "featured_image_url"
   ]
  },
  {
   "cell_type": "code",
   "execution_count": 70,
   "metadata": {},
   "outputs": [
    {
     "data": {
      "text/plain": [
       "[<tbody>\n",
       " <tr>\n",
       " <th scope=\"row\"><b> Mars - Earth Comparison</b></th>\n",
       " <td><span class=\"orange\"><b> Mars</b></span></td>\n",
       " <td><span class=\"purple\"> <b>Earth </b></span> </td>\n",
       " </tr>\n",
       " <tr>\n",
       " <th scope=\"row\">Diameter:</th>\n",
       " <td><span class=\"orange\">6,779 km</span></td>\n",
       " <td><span class=\"purple\">12,742 km</span> </td>\n",
       " </tr>\n",
       " <tr>\n",
       " <th scope=\"row\">Mass:</th>\n",
       " <td><span class=\"orange\">6.39 × 10^23 kg </span></td>\n",
       " <td><span class=\"purple\">5.97 × 10^24 kg</span> </td>\n",
       " </tr>\n",
       " <tr>\n",
       " <th scope=\"row\">Moons:</th>\n",
       " <td><span class=\"orange\">2</span></td>\n",
       " <td><span class=\"purple\">1</span> </td>\n",
       " </tr>\n",
       " <tr>\n",
       " <th scope=\"row\">Distance from Sun:</th>\n",
       " <td><span class=\"orange\">227,943,824 km</span></td>\n",
       " <td><span class=\"purple\">149,598,262 km</span> </td>\n",
       " </tr>\n",
       " <tr>\n",
       " <th scope=\"row\">Length of Year:</th>\n",
       " <td><span class=\"orange\">687 Earth days</span></td>\n",
       " <td><span class=\"purple\">365.24 days</span> </td>\n",
       " </tr>\n",
       " <tr>\n",
       " <th scope=\"row\">Temperature:</th>\n",
       " <td><span class=\"orange\">-87 to -5 °C</span></td>\n",
       " <td><span class=\"purple\">\t-88 to 58°C</span> </td>\n",
       " </tr>\n",
       " </tbody>, <tbody>\n",
       " <tr>\n",
       " <th scope=\"row\">Equatorial Diameter:</th>\n",
       " <td>6,792 km</td>\n",
       " </tr>\n",
       " <tr>\n",
       " <th scope=\"row\">Polar Diameter:</th>\n",
       " <td>6,752 km</td>\n",
       " </tr>\n",
       " <tr>\n",
       " <th scope=\"row\">Mass:</th>\n",
       " <td>\t6.39 × 10^23 kg (0.11 Earths)</td>\n",
       " </tr>\n",
       " <tr>\n",
       " <th scope=\"row\">Moons:</th>\n",
       " <td>\t2 ( <span class=\"red\">Phobos </span> &amp; <span class=\"red\"> Deimos </span>)</td>\n",
       " </tr>\n",
       " <tr>\n",
       " <th scope=\"row\">Orbit Distance:</th>\n",
       " <td>\t227,943,824 km (1.38 AU)</td>\n",
       " </tr>\n",
       " <tr>\n",
       " <th scope=\"row\">Orbit Period:</th>\n",
       " <td>\t687 days (1.9 years)</td>\n",
       " </tr>\n",
       " <tr>\n",
       " <th scope=\"row\">Surface Temperature:</th>\n",
       " <td>\t-87 to -5 °C</td>\n",
       " </tr>\n",
       " <tr>\n",
       " <th scope=\"row\">First Record:</th>\n",
       " <td>\t2nd millennium BC</td>\n",
       " </tr>\n",
       " <tr>\n",
       " <th scope=\"row\">Recorded By:</th>\n",
       " <td>\tEgyptian astronomers</td>\n",
       " </tr>\n",
       " </tbody>]"
      ]
     },
     "execution_count": 70,
     "metadata": {},
     "output_type": "execute_result"
    }
   ],
   "source": [
    "#get facts into html table\n",
    "facts_url='https://galaxyfacts-mars.com'\n",
    "browser.visit(facts_url)\n",
    "html3=browser.html\n",
    "soup3=bs(html3,'html.parser')\n",
    "soup3.find_all('tbody')"
   ]
  },
  {
   "cell_type": "code",
   "execution_count": null,
   "metadata": {},
   "outputs": [],
   "source": [
    "#get Mars hemispheres pictures\n",
    "hemi_url='https://marshemispheres.com/'\n",
    "browser.visit(hemi_url)"
   ]
  },
  {
   "cell_type": "code",
   "execution_count": null,
   "metadata": {},
   "outputs": [],
   "source": [
    "#HTML object\n",
    "html4=browser.html\n",
    "soup4=bs(html4,'html.parser')"
   ]
  },
  {
   "cell_type": "code",
   "execution_count": 94,
   "metadata": {},
   "outputs": [],
   "source": [
    "hemi_site=soup4.find_all('div',class_='item')\n",
    "\n",
    "#empty img list\n",
    "hemi_img=[]\n",
    "titles=[]"
   ]
  },
  {
   "cell_type": "code",
   "execution_count": 96,
   "metadata": {},
   "outputs": [
    {
     "name": "stdout",
     "output_type": "stream",
     "text": [
      "['https://marshemispheres.com/cerberus.html', 'https://marshemispheres.com/schiaparelli.html', 'https://marshemispheres.com/syrtis.html', 'https://marshemispheres.com/valles.html']\n",
      "['Cerberus Hemisphere Enhanced', 'Schiaparelli Hemisphere Enhanced', 'Syrtis Major Hemisphere Enhanced', 'Valles Marineris Hemisphere Enhanced']\n"
     ]
    }
   ],
   "source": [
    "for pic in hemi_site:\n",
    "    hemi_img.append(hemi_url + pic.find('a')['href'])\n",
    "    titles.append(pic.find('h3').text.strip())\n",
    "\n",
    "print(hemi_img)\n",
    "print(titles)"
   ]
  },
  {
   "cell_type": "code",
   "execution_count": 101,
   "metadata": {},
   "outputs": [
    {
     "data": {
      "text/plain": [
       "[{'title': 'Cerberus Hemisphere Enhanced',\n",
       "  'img_url': 'https://marshemispheres.com/cerberus.html'},\n",
       " {'title': 'Schiaparelli Hemisphere Enhanced',\n",
       "  'img_url': 'https://marshemispheres.com/schiaparelli.html'},\n",
       " {'title': 'Syrtis Major Hemisphere Enhanced',\n",
       "  'img_url': 'https://marshemispheres.com/syrtis.html'},\n",
       " {'title': 'Valles Marineris Hemisphere Enhanced',\n",
       "  'img_url': 'https://marshemispheres.com/valles.html'}]"
      ]
     },
     "execution_count": 101,
     "metadata": {},
     "output_type": "execute_result"
    }
   ],
   "source": [
    "img_list=[]\n",
    "for item in range(len(hemi_img)):\n",
    "    img_list.append({'title':titles[item],'img_url':hemi_img[item]})\n",
    "img_list"
   ]
  },
  {
   "cell_type": "code",
   "execution_count": null,
   "metadata": {},
   "outputs": [],
   "source": [
    "browser.quit()"
   ]
  }
 ],
 "metadata": {
  "kernelspec": {
   "display_name": "Python 3",
   "language": "python",
   "name": "python3"
  },
  "language_info": {
   "codemirror_mode": {
    "name": "ipython",
    "version": 3
   },
   "file_extension": ".py",
   "mimetype": "text/x-python",
   "name": "python",
   "nbconvert_exporter": "python",
   "pygments_lexer": "ipython3",
   "version": "3.7.1"
  }
 },
 "nbformat": 4,
 "nbformat_minor": 2
}
